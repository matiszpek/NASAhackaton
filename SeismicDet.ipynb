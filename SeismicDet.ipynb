{
 "cells": [
  {
   "cell_type": "code",
   "execution_count": 1,
   "metadata": {},
   "outputs": [],
   "source": [
    "import numpy as np\n",
    "import pandas as pd\n",
    "import matplotlib.pyplot as plt\n",
    "import seaborn as sns\n",
    "from sklearn.model_selection import train_test_split\n",
    "from sklearn.preprocessing import StandardScaler\n",
    "from sklearn.metrics import accuracy_score, confusion_matrix, classification_report\n",
    "import tensorflow as tf\n",
    "from tensorflow import keras\n",
    "from obspy import read"
   ]
  },
  {
   "cell_type": "code",
   "execution_count": 2,
   "metadata": {},
   "outputs": [],
   "source": [
    "#%pip install numpy pandas matplotlib seaborn scikit-learn tensorflow obspy"
   ]
  },
  {
   "cell_type": "code",
   "execution_count": 3,
   "metadata": {},
   "outputs": [],
   "source": [
    "import os\n",
    "import sys\n",
    "path_to_dataset = r'C:\\Users\\Kono\\Desktop\\space_apps_2024_seismic_detection\\data'\n",
    "sys.path.append(path_to_dataset)"
   ]
  },
  {
   "cell_type": "code",
   "execution_count": 13,
   "metadata": {},
   "outputs": [
    {
     "data": {
      "text/plain": [
       "(76,\n",
       "                                  filename time_abs(%Y-%m-%dT%H:%M:%S.%f)  \\\n",
       " 0  xa.s12.00.mhz.1970-01-19HR00_evid00002     1970-01-19T20:25:00.000000   \n",
       " 1  xa.s12.00.mhz.1970-03-25HR00_evid00003     1970-03-25T03:32:00.000000   \n",
       " 2  xa.s12.00.mhz.1970-03-26HR00_evid00004     1970-03-26T20:17:00.000000   \n",
       " 3  xa.s12.00.mhz.1970-04-25HR00_evid00006     1970-04-25T01:14:00.000000   \n",
       " 4  xa.s12.00.mhz.1970-04-26HR00_evid00007     1970-04-26T14:29:00.000000   \n",
       " \n",
       "    time_rel(sec)       evid    mq_type  \n",
       " 0        73500.0  evid00002  impact_mq  \n",
       " 1        12720.0  evid00003  impact_mq  \n",
       " 2        73020.0  evid00004  impact_mq  \n",
       " 3         4440.0  evid00006  impact_mq  \n",
       " 4        52140.0  evid00007    deep_mq  )"
      ]
     },
     "execution_count": 13,
     "metadata": {},
     "output_type": "execute_result"
    }
   ],
   "source": [
    "data_directory = path_to_dataset + r'\\lunar\\training\\data\\S12_GradeA'\n",
    "data_files = os.listdir(data_directory)\n",
    "data_files = [data_directory + '\\\\' + file for file in data_files if file.endswith('.csv')]\n",
    "abstract_dfs = pd.read_csv(r'C:\\Users\\Kono\\Desktop\\space_apps_2024_seismic_detection\\data\\lunar\\training\\catalogs\\apollo12_catalog_GradeA_final.csv')\n",
    "len(data_files), abstract_dfs.head()\n"
   ]
  },
  {
   "cell_type": "code",
   "execution_count": 17,
   "metadata": {},
   "outputs": [
    {
     "name": "stdout",
     "output_type": "stream",
     "text": [
      "xa\n",
      "Empty DataFrame\n",
      "Columns: [filename, time_abs(%Y-%m-%dT%H:%M:%S.%f), time_rel(sec), evid, mq_type]\n",
      "Index: []\n",
      "572415\n"
     ]
    }
   ],
   "source": [
    "# Initialize an empty DataFrame\n",
    "df = pd.DataFrame(columns=['file_name', 'start', 'seq', 'id', 'cant_measurements'])\n",
    "\n",
    "# Loop through your data files\n",
    "for file in data_files:\n",
    "    temp_df = pd.read_csv(file)\n",
    "    evid_id = file.split('\\\\')[-1].split('_')[-1].split('evid')[1].split('.')[0]\n",
    "    file_name = file.split('\\\\')[-1]\n",
    "    print(file_name)\n",
    "    start = abstract_dfs[abstract_dfs['filename'] == file_name]\n",
    "    print(start)\n",
    "    seq = np.array(temp_df['velocity(m/s)'].tolist())\n",
    "    print(len(seq))\n",
    "    temp_dict = {'file_name': file_name, 'start': '', 'seq': seq, 'id': evid_id, 'cant_measurements': len(seq)}\n",
    "    break\n"
   ]
  },
  {
   "cell_type": "code",
   "execution_count": null,
   "metadata": {},
   "outputs": [],
   "source": []
  }
 ],
 "metadata": {
  "kernelspec": {
   "display_name": "Python 3",
   "language": "python",
   "name": "python3"
  },
  "language_info": {
   "codemirror_mode": {
    "name": "ipython",
    "version": 3
   },
   "file_extension": ".py",
   "mimetype": "text/x-python",
   "name": "python",
   "nbconvert_exporter": "python",
   "pygments_lexer": "ipython3",
   "version": "3.12.7"
  }
 },
 "nbformat": 4,
 "nbformat_minor": 2
}
