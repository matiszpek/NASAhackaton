{
 "cells": [
  {
   "cell_type": "code",
   "execution_count": 1,
   "metadata": {},
   "outputs": [],
   "source": [
    "import numpy as np\n",
    "import pandas as pd\n",
    "import matplotlib.pyplot as plt\n",
    "import seaborn as sns\n",
    "from sklearn.model_selection import train_test_split\n",
    "from sklearn.preprocessing import StandardScaler\n",
    "from sklearn.metrics import accuracy_score, confusion_matrix, classification_report\n",
    "import tensorflow as tf\n",
    "from tensorflow import keras\n",
    "from obspy import read"
   ]
  },
  {
   "cell_type": "code",
   "execution_count": 2,
   "metadata": {},
   "outputs": [],
   "source": [
    "#%pip install numpy pandas matplotlib seaborn scikit-learn tensorflow obspy"
   ]
  },
  {
   "cell_type": "code",
   "execution_count": 3,
   "metadata": {},
   "outputs": [],
   "source": [
    "import os\n",
    "import sys\n",
    "path_to_dataset = r'C:\\Users\\Kono\\Desktop\\space_apps_2024_seismic_detection\\data'\n",
    "sys.path.append(path_to_dataset)"
   ]
  },
  {
   "cell_type": "code",
   "execution_count": 4,
   "metadata": {},
   "outputs": [
    {
     "data": {
      "text/plain": [
       "76"
      ]
     },
     "execution_count": 4,
     "metadata": {},
     "output_type": "execute_result"
    }
   ],
   "source": [
    "data_directory = path_to_dataset + r'\\lunar\\training\\data\\S12_GradeA'\n",
    "data_files = os.listdir(data_directory)\n",
    "data_files = [data_directory + '\\\\' + file for file in data_files if file.endswith('.csv')]\n",
    "abstract_dfs = pd.read_csv(r'C:\\Users\\Kono\\Desktop\\space_apps_2024_seismic_detection\\data\\lunar\\training\\catalogs\\apollo12_catalog_GradeA_final.csv')\n",
    "len(data_files)"
   ]
  },
  {
   "cell_type": "code",
   "execution_count": 8,
   "metadata": {},
   "outputs": [
    {
     "name": "stdout",
     "output_type": "stream",
     "text": [
      "Processing file 1 of 76\n"
     ]
    },
    {
     "name": "stderr",
     "output_type": "stream",
     "text": [
      "C:\\Users\\Kono\\AppData\\Local\\Temp\\ipykernel_16612\\158728675.py:36: FutureWarning: The behavior of DataFrame concatenation with empty or all-NA entries is deprecated. In a future version, this will no longer exclude empty or all-NA columns when determining the result dtypes. To retain the old behavior, exclude the relevant entries before the concat operation.\n",
      "  df = pd.concat([df, pd.DataFrame([temp_dict])], ignore_index=True)\n"
     ]
    },
    {
     "name": "stdout",
     "output_type": "stream",
     "text": [
      "Processing file 2 of 76\n",
      "Processing file 3 of 76\n",
      "Processing file 4 of 76\n",
      "Processing file 5 of 76\n",
      "Processing file 6 of 76\n",
      "Processing file 7 of 76\n",
      "Processing file 8 of 76\n",
      "Processing file 9 of 76\n",
      "Processing file 10 of 76\n",
      "Processing file 11 of 76\n",
      "Processing file 12 of 76\n",
      "Processing file 13 of 76\n",
      "Processing file 14 of 76\n",
      "Processing file 15 of 76\n",
      "Processing file 16 of 76\n",
      "Processing file 17 of 76\n",
      "Processing file 18 of 76\n",
      "Processing file 19 of 76\n",
      "Processing file 20 of 76\n",
      "Processing file 21 of 76\n",
      "Processing file 22 of 76\n",
      "Processing file 23 of 76\n",
      "Processing file 24 of 76\n",
      "Processing file 25 of 76\n",
      "Processing file 26 of 76\n",
      "Processing file 27 of 76\n",
      "Processing file 28 of 76\n",
      "Processing file 29 of 76\n",
      "Processing file 30 of 76\n",
      "Processing file 31 of 76\n",
      "Processing file 32 of 76\n",
      "Processing file 33 of 76\n",
      "Processing file 34 of 76\n",
      "Processing file 35 of 76\n",
      "Processing file 36 of 76\n",
      "Processing file 37 of 76\n",
      "Processing file 38 of 76\n",
      "Processing file 39 of 76\n",
      "Processing file 40 of 76\n",
      "Processing file 41 of 76\n",
      "Processing file 42 of 76\n",
      "Processing file 43 of 76\n",
      "Processing file 44 of 76\n",
      "Processing file 45 of 76\n",
      "Processing file 46 of 76\n",
      "Processing file 47 of 76\n",
      "Processing file 48 of 76\n",
      "Processing file 49 of 76\n",
      "Processing file 50 of 76\n",
      "Processing file 51 of 76\n",
      "Processing file 52 of 76\n",
      "Processing file 53 of 76\n",
      "Processing file 54 of 76\n",
      "Processing file 55 of 76\n",
      "Processing file 56 of 76\n",
      "Processing file 57 of 76\n",
      "Processing file 58 of 76\n",
      "Processing file 59 of 76\n",
      "Processing file 60 of 76\n",
      "Processing file 61 of 76\n",
      "Processing file 62 of 76\n",
      "Processing file 63 of 76\n",
      "Processing file 64 of 76\n",
      "Processing file 65 of 76\n",
      "Processing file 66 of 76\n",
      "Processing file 67 of 76\n",
      "Processing file 68 of 76\n",
      "Processing file 69 of 76\n",
      "Processing file 70 of 76\n",
      "Processing file 71 of 76\n",
      "Processing file 72 of 76\n",
      "Processing file 73 of 76\n",
      "Processing file 74 of 76\n",
      "Processing file 75 of 76\n",
      "Processing file 76 of 76\n"
     ]
    },
    {
     "data": {
      "text/html": [
       "<div>\n",
       "<style scoped>\n",
       "    .dataframe tbody tr th:only-of-type {\n",
       "        vertical-align: middle;\n",
       "    }\n",
       "\n",
       "    .dataframe tbody tr th {\n",
       "        vertical-align: top;\n",
       "    }\n",
       "\n",
       "    .dataframe thead th {\n",
       "        text-align: right;\n",
       "    }\n",
       "</style>\n",
       "<table border=\"1\" class=\"dataframe\">\n",
       "  <thead>\n",
       "    <tr style=\"text-align: right;\">\n",
       "      <th></th>\n",
       "      <th>file_name</th>\n",
       "      <th>start</th>\n",
       "      <th>seq</th>\n",
       "      <th>id</th>\n",
       "      <th>cant_measurements</th>\n",
       "    </tr>\n",
       "  </thead>\n",
       "  <tbody>\n",
       "    <tr>\n",
       "      <th>0</th>\n",
       "      <td>xa.s12.00.mhz.1970-01-19HR00_evid00002</td>\n",
       "      <td>73500.0</td>\n",
       "      <td>[(-6.153278962788711e-14, 0.0), (-7.7012884336...</td>\n",
       "      <td>00002</td>\n",
       "      <td>572415</td>\n",
       "    </tr>\n",
       "    <tr>\n",
       "      <th>1</th>\n",
       "      <td>xa.s12.00.mhz.1970-03-25HR00_evid00003</td>\n",
       "      <td>12720.0</td>\n",
       "      <td>[(-5.481780117043957e-15, 0.0), (-6.8786525555...</td>\n",
       "      <td>00003</td>\n",
       "      <td>572411</td>\n",
       "    </tr>\n",
       "    <tr>\n",
       "      <th>2</th>\n",
       "      <td>xa.s12.00.mhz.1970-03-26HR00_evid00004</td>\n",
       "      <td>73020.0</td>\n",
       "      <td>[(-2.8212463353274303e-14, 0.0), (-3.523317065...</td>\n",
       "      <td>00004</td>\n",
       "      <td>572411</td>\n",
       "    </tr>\n",
       "    <tr>\n",
       "      <th>3</th>\n",
       "      <td>xa.s12.00.mhz.1970-04-25HR00_evid00006</td>\n",
       "      <td>4440.0</td>\n",
       "      <td>[(9.01642264710853e-15, 0.0), (1.1305708384819...</td>\n",
       "      <td>00006</td>\n",
       "      <td>572415</td>\n",
       "    </tr>\n",
       "    <tr>\n",
       "      <th>4</th>\n",
       "      <td>xa.s12.00.mhz.1970-04-26HR00_evid00007</td>\n",
       "      <td>52140.0</td>\n",
       "      <td>[(-1.5835653822406575e-16, 0.0), (-1.872995208...</td>\n",
       "      <td>00007</td>\n",
       "      <td>572411</td>\n",
       "    </tr>\n",
       "  </tbody>\n",
       "</table>\n",
       "</div>"
      ],
      "text/plain": [
       "                                file_name    start  \\\n",
       "0  xa.s12.00.mhz.1970-01-19HR00_evid00002  73500.0   \n",
       "1  xa.s12.00.mhz.1970-03-25HR00_evid00003  12720.0   \n",
       "2  xa.s12.00.mhz.1970-03-26HR00_evid00004  73020.0   \n",
       "3  xa.s12.00.mhz.1970-04-25HR00_evid00006   4440.0   \n",
       "4  xa.s12.00.mhz.1970-04-26HR00_evid00007  52140.0   \n",
       "\n",
       "                                                 seq     id cant_measurements  \n",
       "0  [(-6.153278962788711e-14, 0.0), (-7.7012884336...  00002            572415  \n",
       "1  [(-5.481780117043957e-15, 0.0), (-6.8786525555...  00003            572411  \n",
       "2  [(-2.8212463353274303e-14, 0.0), (-3.523317065...  00004            572411  \n",
       "3  [(9.01642264710853e-15, 0.0), (1.1305708384819...  00006            572415  \n",
       "4  [(-1.5835653822406575e-16, 0.0), (-1.872995208...  00007            572411  "
      ]
     },
     "execution_count": 8,
     "metadata": {},
     "output_type": "execute_result"
    }
   ],
   "source": [
    "# Initialize an empty DataFrame with specified columns\n",
    "df = pd.DataFrame(columns=['file_name', 'start', 'seq', 'id', 'cant_measurements'])\n",
    "\n",
    "for index, file in enumerate(data_files):\n",
    "    print(f'Processing file {index+1} of {len(data_files)}')\n",
    "    \n",
    "    # Read the CSV file into a temporary DataFrame\n",
    "    temp_df = pd.read_csv(file)\n",
    "    \n",
    "    # Extract the event ID from the file name\n",
    "    evid_id = file.split('\\\\')[-1].split('_')[-1].split('evid')[1].split('.')[0]\n",
    "    \n",
    "    # Extract the file name without the '.csv' extension\n",
    "    file_name = file.split('\\\\')[-1].rstrip('.csv')\n",
    "    \n",
    "    # Check if the file name exists in the abstract_dfs DataFrame\n",
    "    if len(abstract_dfs[abstract_dfs['filename'] == file_name]['time_rel(sec)']) == 0:\n",
    "        continue  # Skip this file if it doesn't exist in abstract_dfs\n",
    "    \n",
    "    # Get the start time from the abstract_dfs DataFrame\n",
    "    start = abstract_dfs[abstract_dfs['filename'] == file_name]['time_rel(sec)'].iloc[0]\n",
    "    \n",
    "    # Create a list of tuples (velocity, time) for each file\n",
    "    seq = [(v, t) for v, t in zip(temp_df['velocity(m/s)'].tolist(), temp_df['time_rel(sec)'].tolist())]\n",
    "    \n",
    "    # Create a temporary dictionary with the required information\n",
    "    temp_dict = {\n",
    "        'file_name': file_name, \n",
    "        'start': start,  \n",
    "        'seq': seq,  # Store the entire list of tuples in one cell\n",
    "        'id': evid_id, \n",
    "        'cant_measurements': len(seq)\n",
    "    }\n",
    "    \n",
    "    # Add the temporary dictionary to the main DataFrame\n",
    "    df = pd.concat([df, pd.DataFrame([temp_dict])], ignore_index=True)\n",
    "\n",
    "df.head()\n"
   ]
  },
  {
   "cell_type": "code",
   "execution_count": 17,
   "metadata": {},
   "outputs": [
    {
     "name": "stdout",
     "output_type": "stream",
     "text": [
      "xa.s12.00.mhz.1975-06-26HR00_evid00198\n"
     ]
    },
    {
     "data": {
      "text/plain": [
       "<matplotlib.legend.Legend at 0x17cf3dac5c0>"
      ]
     },
     "execution_count": 17,
     "metadata": {},
     "output_type": "execute_result"
    },
    {
     "data": {
      "image/png": "[encoded data removed]",
      "text/plain": [
       "<Figure size 1000x300 with 1 Axes>"
      ]
     },
     "metadata": {},
     "output_type": "display_data"
    }
   ],
   "source": [
    "# Plot the trace! \n",
    "# Extraer la secuencia completa de la primera fila (índice 0)\n",
    "seq = df.iloc[74]['seq']\n",
    "\n",
    "# Separar los tiempos (segunda posición en las tuplas) y las velocidades (primera posición en las tuplas)\n",
    "csv_times = [t for v, t in seq]  # Tiempos están en la segunda posición de cada tupla\n",
    "csv_data = [v for v, t in seq]\n",
    "arrival_time_rel = df.iloc[74]['start']\n",
    "print(df.iloc[74]['file_name'])\n",
    "fig,ax = plt.subplots(1,1,figsize=(10,3))\n",
    "ax.plot(csv_times,csv_data)\n",
    "\n",
    "# Make the plot pretty\n",
    "ax.set_xlim([min(csv_times),max(csv_times)])\n",
    "ax.set_ylabel('Velocity (m/s)')\n",
    "ax.set_xlabel('Time (s)')\n",
    "\n",
    "# Plot where the arrival time is\n",
    "arrival_line = ax.axvline(x=arrival_time_rel, c='red', label='Rel. Arrival')\n",
    "ax.legend(handles=[arrival_line])"
   ]
  },
  {
   "cell_type": "code",
   "execution_count": null,
   "metadata": {},
   "outputs": [],
   "source": []
  }
 ],
 "metadata": {
  "kernelspec": {
   "display_name": "Python 3",
   "language": "python",
   "name": "python3"
  },
  "language_info": {
   "codemirror_mode": {
    "name": "ipython",
    "version": 3
   },
   "file_extension": ".py",
   "mimetype": "text/x-python",
   "name": "python",
   "nbconvert_exporter": "python",
   "pygments_lexer": "ipython3",
   "version": "3.12.7"
  }
 },
 "nbformat": 4,
 "nbformat_minor": 2
}
