{
 "cells": [
  {
   "cell_type": "code",
   "execution_count": null,
   "metadata": {},
   "outputs": [],
   "source": [
    "%pip install --upgrade pip setuptools wheel disutils"
   ]
  },
  {
   "cell_type": "code",
   "execution_count": null,
   "metadata": {},
   "outputs": [],
   "source": [
    "%pip install numpy pandas matplotlib seaborn scikit-learn tensorflow obspy"
   ]
  },
  {
   "cell_type": "code",
   "execution_count": null,
   "metadata": {},
   "outputs": [],
   "source": [
    "%pip install eqtransformer"
   ]
  },
  {
   "cell_type": "code",
   "execution_count": null,
   "metadata": {},
   "outputs": [],
   "source": [
    "import numpy as np\n",
    "import pandas as pd\n",
    "import os\n",
    "import sys\n",
    "from obspy import read\n",
    "\n",
    "# Define el directorio de datos\n",
    "path_to_dataset = r'C:\\Users\\Kono\\Desktop\\space_apps_2024_seismic_detection\\data'\n",
    "sys.path.append(path_to_dataset)\n",
    "data_directory = path_to_dataset + r'\\lunar\\training\\data\\S12_GradeA'\n",
    "data_files = os.listdir(data_directory)\n",
    "data_files = [data_directory + '\\\\' + file for file in data_files if file.endswith('.mseed')]\n",
    "abstract_dfs = pd.read_csv(r'C:\\Users\\Kono\\Desktop\\space_apps_2024_seismic_detection\\data\\lunar\\training\\catalogs\\apollo12_catalog_GradeA_final.csv')\n",
    "\n",
    "# Inicializa un DataFrame vacío para almacenar los resultados\n",
    "df = pd.DataFrame(columns=['file_name', 'start', 'id', 'cant_measurements', 'st'])\n",
    "\n",
    "for index, file in enumerate(data_files):\n",
    "    print(f'Processing file {index+1} of {len(data_files)}')\n",
    "    \n",
    "    # Lee el archivo .mseed\n",
    "    temp_df = read(file)\n",
    "    \n",
    "    # Extrae el ID del evento del nombre del archivo\n",
    "    evid_id = file.split('\\\\')[-1].split('_')[-1].split('evid')[1].split('.')[0]\n",
    "    \n",
    "    # Extrae el nombre del archivo sin la extensión .mseed\n",
    "    file_name = file.split('\\\\')[-1].rstrip('.mseed')\n",
    "    \n",
    "    # Verifica si el nombre del archivo existe en el DataFrame abstract_dfs\n",
    "    if len(abstract_dfs[abstract_dfs['filename'] == file_name]['time_rel(sec)']) == 0:\n",
    "        continue  # Salta este archivo si no existe en abstract_dfs\n",
    "    \n",
    "    # Obtiene el tiempo de inicio del DataFrame abstract_dfs\n",
    "    start = abstract_dfs[abstract_dfs['filename'] == file_name]['time_rel(sec)'].iloc[0]\n",
    "    \n",
    "    # Extrae la traza y los datos\n",
    "    tr = temp_df.traces[0].copy()\n",
    "    tr_data = tr.data  # Velocidades\n",
    "    tr_times = tr.times()  # Tiempos relativos\n",
    "\n",
    "    # Crea un diccionario temporal con la información requerida\n",
    "    temp_dict = {\n",
    "        'file_name': file_name, \n",
    "        'start': start,  \n",
    "        'id': evid_id, \n",
    "        'cant_measurements': temp_df[0].stats.npts,\n",
    "        'st': temp_df\n",
    "    }\n",
    "\n",
    "    df.to_csv(\"seismic_data_prepared.csv\", index=False)\n",
    "    # Agrega el diccionario temporal al DataFrame principal\n",
    "    df = pd.concat([df, pd.DataFrame([temp_dict])], ignore_index=True)\n"
   ]
  },
  {
   "cell_type": "code",
   "execution_count": null,
   "metadata": {},
   "outputs": [],
   "source": [
    "from eqtransformer import EQTransformer\n",
    "from eqtransformer.core.data_loader import DataLoader\n",
    "\n",
    "# Cargar los datos procesados\n",
    "df = pd.read_csv(\"seismic_data_prepared.csv\")\n",
    "\n",
    "# Cargar los archivos .mseed para el DataLoader de EQTransformer\n",
    "data_loader = DataLoader(df['file_name'].tolist(), df['start'].tolist())\n",
    "\n",
    "# Crear una instancia del modelo EQTransformer para regresión\n",
    "model = EQTransformer(\n",
    "    model_type='regression',  # Cambiado a 'regression'\n",
    "    input_shape=(1, 3000),  # Ajusta según la longitud de tus trazas\n",
    "    learning_rate=0.001,\n",
    "    batch_size=32,\n",
    "    num_epochs=50\n",
    ")\n",
    "\n",
    "# Compilar el modelo\n",
    "model.compile()\n"
   ]
  },
  {
   "cell_type": "code",
   "execution_count": null,
   "metadata": {},
   "outputs": [],
   "source": []
  },
  {
   "cell_type": "code",
   "execution_count": 2,
   "metadata": {},
   "outputs": [],
   "source": [
    "from scipy import signal\n",
    "from matplotlib import cm\n",
    "\n",
    "def plot_seismic_data(st, start, start_prediction):\n",
    "    # Filtrar la señal\n",
    "    minfreq = 0.5\n",
    "    maxfreq = 1.0\n",
    "    st_filt = st.copy()\n",
    "    st_filt.filter('bandpass',freqmin=minfreq,freqmax=maxfreq)\n",
    "    tr_filt = st_filt.traces[0].copy()\n",
    "    tr_times_filt = tr_filt.times()\n",
    "    tr_data_filt = tr_filt.data\n",
    "    \n",
    "    f, t, sxx = signal.spectrogram(tr_data_filt, tr_filt.stats.sampling_rate)\n",
    "\n",
    "    # Graficar la serie temporal y el espectrograma\n",
    "    fig = plt.figure(figsize=(10, 10))\n",
    "    \n",
    "    ax1 = plt.subplot(2, 1, 1)\n",
    "    ax1.plot(tr_times_filt, tr_data_filt)\n",
    "    \n",
    "    # Marcar el inicio de la predicción\n",
    "    ax1.axvline(x=start_prediction, color='green', label='Predicción de inicio')\n",
    "    ax1.axvline(x=start, color='red', label='Inicio real')\n",
    "    \n",
    "    ax1.legend(loc='upper left')\n",
    "    ax1.set_xlim([min(tr_times_filt), max(tr_times_filt)])\n",
    "    ax1.set_ylabel('Velocidad (m/s)')\n",
    "    ax1.set_xlabel('Tiempo (s)')\n",
    "    \n",
    "    ax2 = plt.subplot(2, 1, 2)\n",
    "    vals = ax2.pcolormesh(t, f, sxx, cmap=cm.jet, vmax=5e-17)\n",
    "    ax2.set_xlim([min(tr_times_filt), max(tr_times_filt)])\n",
    "    ax2.set_xlabel('Tiempo (s)', fontweight='bold')\n",
    "    ax2.set_ylabel('Frecuencia (Hz)', fontweight='bold')\n",
    "    \n",
    "    # Marcar el inicio de la predicción en el espectrograma\n",
    "    ax2.axvline(x=start_prediction, color='green')\n",
    "    ax2.axvline(x=start, color='red')\n",
    "\n",
    "    # Añadir barra de color\n",
    "    cbar = plt.colorbar(vals, orientation='horizontal')\n",
    "    cbar.set_label('Power ((m/s)^2/sqrt(Hz))', fontweight='bold')\n",
    "\n",
    "    plt.tight_layout()\n",
    "    plt.show()"
   ]
  },
  {
   "cell_type": "code",
   "execution_count": null,
   "metadata": {},
   "outputs": [],
   "source": [
    "i = 6\n",
    "plot_seismic_data(df.iloc[i]['st'], df.iloc[i]['start'], df.iloc[i]['start'] - 10000)"
   ]
  },
  {
   "cell_type": "code",
   "execution_count": 4,
   "metadata": {},
   "outputs": [],
   "source": [
    "import numpy as np\n",
    "from scipy import signal\n",
    "\n",
    "# Prepare los datos para el modelo\n",
    "spectrograms = []\n",
    "starts = []\n",
    "\n",
    "for index, row in df.iterrows():\n",
    "    st = row['st']\n",
    "    \n",
    "    # Filtrar la señal\n",
    "    minfreq = 0.5\n",
    "    maxfreq = 1.0\n",
    "    st_filt = st.copy()\n",
    "    st_filt.filter('bandpass', freqmin=minfreq, freqmax=maxfreq)\n",
    "    tr_filt = st_filt.traces[0].copy()\n",
    "    \n",
    "    # Calcular el espectrograma\n",
    "    f, t, sxx = signal.spectrogram(tr_filt.data, tr_filt.stats.sampling_rate)\n",
    "    sxx = np.transpose(sxx)\n",
    "    # Añadir espectrograma y start a las listas\n",
    "\n",
    "    spectrograms.append(sxx)\n",
    "    starts.append(row['start'])\n",
    "\n",
    "# Encontrar el tamaño máximo de los espectrogramas\n",
    "max_height = max(s.shape[0] for s in spectrograms)\n",
    "max_width = max(s.shape[1] for s in spectrograms)\n",
    "\n",
    "# Rellenar los espectrogramas con ceros para uniformizar\n",
    "padded_spectrograms = []\n",
    "for sxx in spectrograms:\n",
    "    # Rellenar la matriz con ceros hasta el tamaño máximo\n",
    "    pad_width = ((0, max_height - sxx.shape[0]), (0, max_width - sxx.shape[1]))\n",
    "    padded_spectrograms.append(np.pad(sxx, pad_width, mode='constant'))\n",
    "\n",
    "# Convertir listas a arrays numpy\n",
    "X = np.array(padded_spectrograms)\n",
    "y = np.array(starts)\n"
   ]
  },
  {
   "cell_type": "code",
   "execution_count": null,
   "metadata": {},
   "outputs": [],
   "source": [
    "# Verificar la longitud de ambas listas\n",
    "print(X.shape, y.shape)\n"
   ]
  },
  {
   "cell_type": "code",
   "execution_count": null,
   "metadata": {},
   "outputs": [],
   "source": [
    "# Redefinir la forma de los datos para la entrada en el modelo\n",
    "X = X.reshape(X.shape[0], X.shape[1], X.shape[2], 1)  # Añadir dimensión para canales\n",
    "\n",
    "# Crear el modelo CNN\n",
    "model = keras.Sequential([\n",
    "    keras.layers.Conv2D(32, (3, 3), activation='relu', input_shape=(X.shape[1], X.shape[2], 1)),\n",
    "    keras.layers.MaxPooling2D((2, 2)),\n",
    "    keras.layers.Conv2D(64, (3, 3), activation='relu'),\n",
    "    keras.layers.MaxPooling2D((2, 2)),\n",
    "    keras.layers.Flatten(),\n",
    "    keras.layers.Dense(64, activation='relu'),\n",
    "    keras.layers.Dense(1)  # Salida única para la predicción del valor 'start'\n",
    "])\n",
    "\n",
    "# Compilar el modelo\n",
    "model.compile(optimizer='adam', loss='mean_squared_error')\n",
    "\n",
    "# Entrenar el modelo\n",
    "model.fit(X, y, epochs=3, batch_size=32)  # Ajustar según sea necesario\n"
   ]
  },
  {
   "cell_type": "code",
   "execution_count": null,
   "metadata": {},
   "outputs": [],
   "source": [
    "# Evaluar el modelo\n",
    "loss = model.evaluate(X, y)\n",
    "print(f'Loss: {loss}')\n"
   ]
  },
  {
   "cell_type": "code",
   "execution_count": null,
   "metadata": {},
   "outputs": [],
   "source": [
    "predictions = model.predict(X)\n",
    "\n",
    "# Comparar las predicciones usando la función plot_seismic_data\n",
    "for i in range(len(predictions)):\n",
    "    plot_seismic_data(df.iloc[i]['st'], df.iloc[i]['start'], predictions[i][0])\n",
    "    break\n",
    "\n"
   ]
  },
  {
   "cell_type": "code",
   "execution_count": null,
   "metadata": {},
   "outputs": [],
   "source": []
  }
 ],
 "metadata": {
  "kernelspec": {
   "display_name": ".venv",
   "language": "python",
   "name": "python3"
  },
  "language_info": {
   "codemirror_mode": {
    "name": "ipython",
    "version": 3
   },
   "file_extension": ".py",
   "mimetype": "text/x-python",
   "name": "python",
   "nbconvert_exporter": "python",
   "pygments_lexer": "ipython3",
   "version": "3.12.7"
  }
 },
 "nbformat": 4,
 "nbformat_minor": 2
}
